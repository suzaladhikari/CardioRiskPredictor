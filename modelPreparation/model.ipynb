{
 "cells": [
  {
   "cell_type": "code",
   "execution_count": 198,
   "metadata": {},
   "outputs": [],
   "source": [
    "##Libraries to be imported \n",
    "import pandas as pd \n",
    "import numpy as np \n",
    "from sklearn.metrics import confusion_matrix,roc_auc_score, mean_squared_error,classification_report,roc_curve\n",
    "from sklearn.preprocessing import StandardScaler\n",
    "from sklearn.decomposition import PCA\n",
    "from sklearn.model_selection import train_test_split, GridSearchCV\n",
    "from sklearn.linear_model import LogisticRegression\n",
    "from sklearn.impute import SimpleImputer\n",
    "from sklearn.pipeline import Pipeline\n",
    "from sklearn.neighbors import KNeighborsClassifier\n",
    "import matplotlib.pyplot as plt"
   ]
  },
  {
   "cell_type": "code",
   "execution_count": 199,
   "metadata": {},
   "outputs": [],
   "source": [
    "##Data to be used\n",
    "data = pd.read_csv('forModel.csv')\n",
    "data.drop(['Checkup','Unnamed: 0.1','Unnamed: 0'], axis = 1, inplace =True)\n",
    "\n",
    "##Cloned Data \n",
    "clonedData = pd.read_csv('forModel.csv')\n",
    "clonedData['Heart_Disease'] = clonedData['Heart_Disease'].map({'Yes':1,'No':0})\n"
   ]
  },
  {
   "cell_type": "markdown",
   "metadata": {},
   "source": [
    "### Model Preparation ! \n",
    "---"
   ]
  },
  {
   "cell_type": "code",
   "execution_count": 200,
   "metadata": {},
   "outputs": [
    {
     "name": "stdout",
     "output_type": "stream",
     "text": [
      "The data has 160000 rows and 19 columns\n",
      "General_Health                   object\n",
      "Exercise                         object\n",
      "Heart_Disease                    object\n",
      "Skin_Cancer                      object\n",
      "Other_Cancer                     object\n",
      "Depression                       object\n",
      "Diabetes                         object\n",
      "Arthritis                        object\n",
      "Sex                              object\n",
      "Age_Category                     object\n",
      "Height_(cm)                     float64\n",
      "Weight_(kg)                     float64\n",
      "BMI                             float64\n",
      "Smoking_History                  object\n",
      "Alcohol_Consumption             float64\n",
      "Fruit_Consumption               float64\n",
      "Green_Vegetables_Consumption    float64\n",
      "FriedPotato_Consumption         float64\n",
      "SexBinary                         int64\n",
      "dtype: object\n"
     ]
    }
   ],
   "source": [
    "## lets first evaluate the datas that we will be using ! \n",
    "\n",
    "print(f\"The data has {data.shape[0]} rows and {data.shape[1]} columns\")\n",
    "print(data.dtypes)"
   ]
  },
  {
   "cell_type": "markdown",
   "metadata": {},
   "source": [
    "---\n",
    "### Feature Engineering "
   ]
  },
  {
   "cell_type": "code",
   "execution_count": 201,
   "metadata": {},
   "outputs": [
    {
     "name": "stdout",
     "output_type": "stream",
     "text": [
      "The number of unique features that the columns General_Health has is 5\n",
      "The number of unique features that the columns Exercise has is 2\n",
      "The number of unique features that the columns Heart_Disease has is 2\n",
      "The number of unique features that the columns Skin_Cancer has is 2\n",
      "The number of unique features that the columns Other_Cancer has is 2\n",
      "The number of unique features that the columns Depression has is 2\n",
      "The number of unique features that the columns Diabetes has is 4\n",
      "The number of unique features that the columns Arthritis has is 2\n",
      "The number of unique features that the columns Sex has is 2\n",
      "The number of unique features that the columns Age_Category has is 13\n",
      "The number of unique features that the columns Smoking_History has is 2\n"
     ]
    }
   ],
   "source": [
    "## Lets convert few columns in order to create few \n",
    "##Lets use the One Hot Encoder to change all the categorical data into the numerical datatypes \n",
    "onlyCategorical = data.select_dtypes(\"object\")\n",
    "for everything in onlyCategorical.columns:\n",
    "    print(f\"The number of unique features that the columns {everything} has is {data[everything].nunique()}\")\n"
   ]
  },
  {
   "cell_type": "code",
   "execution_count": 202,
   "metadata": {},
   "outputs": [],
   "source": [
    "## As seen lets convert the binary category using the .map and nominal category using the onehotencoding \n",
    "data['General_Health'] = data['General_Health'].apply(lambda x: 'Poor' if x == 'Poor' else 'Good')\n",
    "data['General_Health'] = data['General_Health'].map({\"Poor\":1, \"Good\":0})\n",
    "data['Sex'] = data['Sex'].map({'Male':1, 'Female':0})\n",
    "data['Diabetes'] = data['Diabetes'].apply(lambda x:'No' if x == 'No' else 'Yes')\n",
    "## Since most of the Binary have Yes and No we will convert all of them at once \n",
    "cols = ['Exercise','Heart_Disease','Skin_Cancer','Other_Cancer','Depression','Arthritis','Smoking_History','Diabetes']\n",
    "for each in cols:\n",
    "    data[each] = data[each].map({'Yes':1,'No':0}) ##This converts the whole data into the binary \n",
    "\n",
    "dummiedData = pd.get_dummies(data, columns=['Age_Category'], dtype = 'int')\n"
   ]
  },
  {
   "cell_type": "markdown",
   "metadata": {},
   "source": [
    "### The reason to convert the binary categories using the .map instead of using OneHotEncoding is to minimize the number of columns. "
   ]
  },
  {
   "cell_type": "markdown",
   "metadata": {},
   "source": [
    "### Lets build the Pipeline and compare between the two models: Logistic Regression and KNNeighborsClassifier "
   ]
  },
  {
   "cell_type": "code",
   "execution_count": 203,
   "metadata": {},
   "outputs": [],
   "source": [
    "## Dependent and Independent Variables \n",
    "y = clonedData['Heart_Disease'].values\n",
    "X = dummiedData.drop('Heart_Disease', axis = 1).values\n",
    "X_train, X_test, y_train, y_test = train_test_split(X,y, test_size=0.2, random_state=32) ## Splitting the data "
   ]
  },
  {
   "cell_type": "markdown",
   "metadata": {},
   "source": [
    "---\n",
    "### PipelineOne and its hyperparameter tuning"
   ]
  },
  {
   "cell_type": "code",
   "execution_count": 204,
   "metadata": {},
   "outputs": [],
   "source": [
    "pipelineOne = Pipeline([\n",
    "    ('imputer',SimpleImputer(strategy='median')), ##This is for the missing values\n",
    "    ('scalar',StandardScaler()), ##This is to squeeze the data with the mean between 0 and 1 \n",
    "    ('pca', PCA(n_components=0.95)), ## This is for the dimension reduction \n",
    "    ('logit',LogisticRegression(C=100)) ## This is the model that we will be working on ! \n",
    "]).fit(X_train,y_train)"
   ]
  },
  {
   "cell_type": "code",
   "execution_count": 205,
   "metadata": {},
   "outputs": [
    {
     "name": "stdout",
     "output_type": "stream",
     "text": [
      "{'logit__C': 100}\n"
     ]
    }
   ],
   "source": [
    "pipelineOne.fit(X_train,y_train)\n",
    "y_pred = pipelineOne.predict(X_test)\n",
    "\n",
    "\n",
    "## Hyper parameter tunning \n",
    "param_grids = {\n",
    "    'logit__C':[0.01,0.1,1,10,100]\n",
    "}\n",
    "\n",
    "bestValues = GridSearchCV(pipelineOne, param_grid= param_grids,cv = 5) ## Cross Val Score is set to 5\n",
    "bestValues.fit(X_train,y_train)\n",
    "print(bestValues.best_params_)  ##the value has been updated in the pipelineOne model "
   ]
  },
  {
   "cell_type": "code",
   "execution_count": 206,
   "metadata": {},
   "outputs": [
    {
     "name": "stdout",
     "output_type": "stream",
     "text": [
      "              precision    recall  f1-score   support\n",
      "\n",
      "           0       0.72      0.73      0.73     15776\n",
      "           1       0.73      0.72      0.73     16224\n",
      "\n",
      "    accuracy                           0.73     32000\n",
      "   macro avg       0.73      0.73      0.73     32000\n",
      "weighted avg       0.73      0.73      0.73     32000\n",
      "\n"
     ]
    }
   ],
   "source": [
    "### Metrics of pipelineOne \n",
    "classificationReport = classification_report(y_pred,y_test)\n",
    "print(classificationReport)"
   ]
  },
  {
   "cell_type": "code",
   "execution_count": 207,
   "metadata": {},
   "outputs": [],
   "source": [
    "### ROC Curve values \n",
    "#First lets get the predicted probabilites of the positive class\n",
    "y_score = pipelineOne.predict_proba(X_test)[:,1]\n",
    "tpr1,fpr1,thresholds1 = roc_curve(y_test,y_score) ## This are the ratio of the true positives and false positives \n",
    "aucScoreOne = roc_auc_score(y_test,y_score)\n"
   ]
  },
  {
   "cell_type": "markdown",
   "metadata": {},
   "source": [
    "### In the Pipeline One we were able to have 72% precision, 73% recall and f1-Score of 73% after the hyperparameter tuning! "
   ]
  },
  {
   "cell_type": "markdown",
   "metadata": {},
   "source": [
    "---"
   ]
  },
  {
   "cell_type": "markdown",
   "metadata": {},
   "source": [
    "### Pipeline Two and its hyperparameter tuning"
   ]
  },
  {
   "cell_type": "code",
   "execution_count": 208,
   "metadata": {},
   "outputs": [],
   "source": [
    "pipelineTwo = Pipeline([\n",
    "    ('imputer',SimpleImputer(strategy='median')), ##This is for the missing values\n",
    "    ('scalar',StandardScaler()), ##This is to squeeze the data with the mean between 0 and 1 \n",
    "    ('pca', PCA(n_components=0.95)), ## This is for the dimension reduction \n",
    "    ('knn',KNeighborsClassifier(n_neighbors = 3)) ## This is the model that we will be working on ! \n",
    "])"
   ]
  },
  {
   "cell_type": "code",
   "execution_count": 209,
   "metadata": {},
   "outputs": [
    {
     "name": "stdout",
     "output_type": "stream",
     "text": [
      "{'knn__n_neighbors': 3}\n"
     ]
    }
   ],
   "source": [
    "pipelineTwo.fit(X_train,y_train)\n",
    "y_pred = pipelineTwo.predict(X_test)\n",
    "\n",
    "\n",
    "## Hyper parameter tunning \n",
    "param_grids = {\n",
    "    'knn__n_neighbors':[3,5,7,9]\n",
    "}\n",
    "\n",
    "bestValues = GridSearchCV(pipelineTwo, param_grid= param_grids,cv = 5) ## Cross Val Score is set to 5\n",
    "bestValues.fit(X_train,y_train)\n",
    "print(bestValues.best_params_)  ##the value has been updated in the pipelineTwo model"
   ]
  },
  {
   "cell_type": "code",
   "execution_count": 210,
   "metadata": {},
   "outputs": [
    {
     "name": "stdout",
     "output_type": "stream",
     "text": [
      "              precision    recall  f1-score   support\n",
      "\n",
      "           0       0.74      0.89      0.81     13394\n",
      "           1       0.90      0.78      0.84     18606\n",
      "\n",
      "    accuracy                           0.82     32000\n",
      "   macro avg       0.82      0.83      0.82     32000\n",
      "weighted avg       0.84      0.82      0.82     32000\n",
      "\n"
     ]
    }
   ],
   "source": [
    "### Metrics of pipelineTwo \n",
    "classificationReport = classification_report(y_pred,y_test)\n",
    "print(classificationReport)"
   ]
  },
  {
   "cell_type": "code",
   "execution_count": 211,
   "metadata": {},
   "outputs": [],
   "source": [
    "### ROC Curve values \n",
    "#First lets get the predicted probabilites of the positive class\n",
    "y_score2 = pipelineTwo.predict_proba(X_test)[:,1]\n",
    "tpr2,fpr2,thresholds2 = roc_curve(y_test,y_score2) ## This are the ratio of the true positives and false positives \n",
    "aucScoreTwo = roc_auc_score(y_test,y_score2)"
   ]
  },
  {
   "cell_type": "markdown",
   "metadata": {},
   "source": [
    "### In the Pipeline Two we were able to have 74% precision, 89% recall and f1-Score of 81% after the hyperparameter tuning! "
   ]
  },
  {
   "cell_type": "markdown",
   "metadata": {},
   "source": [
    "---\n",
    "### Comparison between the two models"
   ]
  },
  {
   "cell_type": "code",
   "execution_count": 212,
   "metadata": {},
   "outputs": [
    {
     "data": {
      "image/png": "[encoded data removed]",
      "text/plain": [
       "<Figure size 640x480 with 1 Axes>"
      ]
     },
     "metadata": {},
     "output_type": "display_data"
    }
   ],
   "source": [
    "plt.plot(tpr1,fpr1,label = f'Logistic AUC Score {np.round(aucScoreOne,2)} ')\n",
    "plt.plot(tpr2,fpr2,label = f'KNN AUC Score {np.round(aucScoreTwo,2)}')\n",
    "plt.plot([0, 1], [0, 1], 'k--')\n",
    "plt.xlabel('False Positive Rate')\n",
    "plt.ylabel('True Positive Rate')\n",
    "plt.title('ROC Curves')\n",
    "plt.legend()\n",
    "plt.show()"
   ]
  }
 ],
 "metadata": {
  "kernelspec": {
   "display_name": "Python 3",
   "language": "python",
   "name": "python3"
  },
  "language_info": {
   "codemirror_mode": {
    "name": "ipython",
    "version": 3
   },
   "file_extension": ".py",
   "mimetype": "text/x-python",
   "name": "python",
   "nbconvert_exporter": "python",
   "pygments_lexer": "ipython3",
   "version": "3.13.0"
  }
 },
 "nbformat": 4,
 "nbformat_minor": 2
}
